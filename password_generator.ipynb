{
 "cells": [
  {
   "cell_type": "code",
   "execution_count": 1,
   "id": "64f72403",
   "metadata": {},
   "outputs": [
    {
     "ename": "NameError",
     "evalue": "name '_name_' is not defined",
     "output_type": "error",
     "traceback": [
      "\u001b[1;31m---------------------------------------------------------------------------\u001b[0m",
      "\u001b[1;31mNameError\u001b[0m                                 Traceback (most recent call last)",
      "Cell \u001b[1;32mIn[1], line 36\u001b[0m\n\u001b[0;32m     33\u001b[0m         \u001b[38;5;28mprint\u001b[39m(\u001b[38;5;124m\"\u001b[39m\u001b[38;5;124mError:\u001b[39m\u001b[38;5;124m\"\u001b[39m, e)\n\u001b[0;32m     34\u001b[0m         \u001b[38;5;28mprint\u001b[39m(\u001b[38;5;124m\"\u001b[39m\u001b[38;5;124mPlease ensure at least one character type is selected.\u001b[39m\u001b[38;5;124m\"\u001b[39m)\n\u001b[1;32m---> 36\u001b[0m \u001b[38;5;28;01mif\u001b[39;00m _name_ \u001b[38;5;241m==\u001b[39m \u001b[38;5;124m\"\u001b[39m\u001b[38;5;124m_main_\u001b[39m\u001b[38;5;124m\"\u001b[39m:\n\u001b[0;32m     37\u001b[0m     main()\n",
      "\u001b[1;31mNameError\u001b[0m: name '_name_' is not defined"
     ]
    }
   ],
   "source": [
    "import string\n",
    "import random\n",
    "\n",
    "def generate_password(length, use_letters=True, use_digits=True, use_punctuation=True):\n",
    "    characters = ''\n",
    "    if use_letters:\n",
    "        characters += string.ascii_letters\n",
    "    if use_digits:\n",
    "        characters += string.digits\n",
    "    if use_punctuation:\n",
    "        characters += string.punctuation\n",
    "\n",
    "    if len(characters) == 0:\n",
    "        raise ValueError(\"At least one character type should be selected.\")\n",
    "\n",
    "    password = ''.join(random.choice(characters) for _ in range(length))\n",
    "    return password\n",
    "\n",
    "def get_user_preferences():\n",
    "    length = int(input(\"Enter the length of the desired password: \"))\n",
    "    use_letters = input(\"Include letters? (yes/no): \").lower() == 'yes'\n",
    "    use_digits = input(\"Include digits? (yes/no): \").lower() == 'yes'\n",
    "    use_punctuation = input(\"Include punctuation? (yes/no): \").lower() == 'yes'\n",
    "\n",
    "    return length, use_letters, use_digits, use_punctuation\n",
    "\n",
    "def main():\n",
    "    try:\n",
    "        length, use_letters, use_digits, use_punctuation = get_user_preferences()\n",
    "        password = generate_password(length, use_letters, use_digits, use_punctuation)\n",
    "        print(\"Generated Password:\", password)\n",
    "    except ValueError as e:\n",
    "        print(\"Error:\", e)\n",
    "        print(\"Please ensure at least one character type is selected.\")\n",
    "\n",
    "if _name_ == \"_main_\":\n",
    "    main()"
   ]
  },
  {
   "cell_type": "code",
   "execution_count": null,
   "id": "78e57f60",
   "metadata": {},
   "outputs": [],
   "source": []
  }
 ],
 "metadata": {
  "kernelspec": {
   "display_name": "Python 3 (ipykernel)",
   "language": "python",
   "name": "python3"
  },
  "language_info": {
   "codemirror_mode": {
    "name": "ipython",
    "version": 3
   },
   "file_extension": ".py",
   "mimetype": "text/x-python",
   "name": "python",
   "nbconvert_exporter": "python",
   "pygments_lexer": "ipython3",
   "version": "3.11.5"
  }
 },
 "nbformat": 4,
 "nbformat_minor": 5
}
